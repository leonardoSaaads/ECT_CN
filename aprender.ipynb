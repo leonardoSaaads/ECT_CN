{
 "cells": [
  {
   "cell_type": "markdown",
   "metadata": {},
   "source": [
    "# APRENDENDO PYTHON"
   ]
  },
  {
   "cell_type": "markdown",
   "metadata": {},
   "source": [
    "## 1 - Declarando variáveis:"
   ]
  },
  {
   "cell_type": "code",
   "execution_count": null,
   "metadata": {},
   "outputs": [],
   "source": [
    "a = True  # Tipo Booleano\n",
    "b = False  # Tipo Booleano\n",
    "c = 'string'  # Tipo String\n",
    "d = \"Também sou do tipo string\"  # Tipo String\n",
    "e = 1203  # Tipo Int\n",
    "f = 1203.126312  # Tipo Float\n",
    "g = ['lista', a, 123, 1231.234, False]  # Tipo Lista\n",
    "h = {'Chave': 'Fechadura', 'Chave1': 123}  # Tipo Chave\n",
    "i = (123, 'teste')  # Tipo Conjunto"
   ]
  },
  {
   "cell_type": "markdown",
   "metadata": {},
   "source": [
    "## 2 - Comandos básicos:"
   ]
  },
  {
   "cell_type": "code",
   "execution_count": null,
   "metadata": {},
   "outputs": [
    {
     "name": "stdout",
     "output_type": "stream",
     "text": [
      "Olá Mundo! Esse comando será printado na sua tela. \n",
      "\n"
     ]
    }
   ],
   "source": [
    "#### '\\n'  # Esse comando serve como quebra de linha (semelhante a apertar enter)\n",
    "\n",
    "print(\"Olá Mundo! Esse comando será printado na sua tela. \\n\")  # Printa uma string ou outras variáveis\n",
    "\n",
    "variavel_adquirida = input(\"Coloque alguma variável aqui: \\n\")  # Recebe do usuário uma variável\n",
    "\n",
    "variavel_adquirida_inteiro = int(input(\"Coloque uma variável inteira: \\n\"))\n",
    "# Recebe do usuário somente uma variável int\n",
    "\n",
    "variavel_adquirida_float = float(input(\"Coloque uma variável do tipo float: \\n\"))\n",
    "# Recebe do usuário somente uma variável float\n",
    "\n",
    "variavel_adquirida_booleano = bool(input(\"Coloque uma variável do tipo booleano: \\n\"))\n",
    "# Recebe do usuário somente uma variável booleana."
   ]
  },
  {
   "cell_type": "markdown",
   "metadata": {},
   "source": [
    "## 3 - Importando bibliotecas:"
   ]
  },
  {
   "cell_type": "code",
   "execution_count": 7,
   "metadata": {},
   "outputs": [],
   "source": [
    "# Utilize o comando import e o nome da biblioteca.\n",
    "# Exemplo:\n",
    "\n",
    "import math\n",
    "\n",
    "# Para utilizar uma função da biblioteca importada ou uma variável:\n",
    "\n",
    "seno_2 = math.sin(2)  # Função seno\n",
    "cos_3 = math.cos(3)  # Função cosseno\n",
    "euler = math.e  # Numero euler\n",
    "\n",
    "# Para importar uma biblioteca e utilizar ela com outro nome:\n",
    "\n",
    "import random as aleatorio  # Definido o nome 'aleatório' para a biblioteca 'random'\n",
    "\n",
    "numero_aleatorio = aleatorio.random()"
   ]
  },
  {
   "cell_type": "markdown",
   "metadata": {},
   "source": [
    "## 4 - Relações de condição (if, else, elif):"
   ]
  },
  {
   "cell_type": "code",
   "execution_count": 6,
   "metadata": {},
   "outputs": [
    {
     "name": "stdout",
     "output_type": "stream",
     "text": [
      "Pode Sair de Casa\n",
      "O carro está ligado e parado\n"
     ]
    }
   ],
   "source": [
    "# Exemplo 1:\n",
    "\n",
    "tempo = 'ensolarado'\n",
    "if tempo == 'chovendo':\n",
    "    print('Não sai de casa')\n",
    "else:\n",
    "    print('Pode Sair de Casa')\n",
    "\n",
    "# Exemplo 2:\n",
    "\n",
    "ligado = True\n",
    "movendo = False\n",
    "carro = [ligado, movendo]\n",
    "\n",
    "# OBS: carro[0] está acessando a variável ligado\n",
    "# OBS: carro[1] está acessando a variável movendo\n",
    "\n",
    "if carro[0] is True and carro[1] is True:\n",
    "    print('O carro está ligado e se movendo')\n",
    "elif carro[0] is True and carro[1] is False:\n",
    "    print('O carro está ligado e parado')\n",
    "else:\n",
    "    print('O carro está desligado')"
   ]
  },
  {
   "cell_type": "markdown",
   "metadata": {},
   "source": [
    "## 5 - Laços (for & while):"
   ]
  },
  {
   "cell_type": "code",
   "execution_count": null,
   "metadata": {},
   "outputs": [],
   "source": [
    "# exemplo 1:\n",
    "\n",
    "somatorio = 0\n",
    "for numero in range(10):  # laço for que vai de 0 até 9\n",
    "    somatorio = somatorio + numero\n",
    "print(somatorio)\n",
    "\n",
    "# mesmo exemplo com while\n",
    "\n",
    "somatorio = 0\n",
    "contador = 0\n",
    "while contador <= 9:\n",
    "    somatorio = somatorio + contador\n",
    "    contador = contador + 1\n",
    "print(somatorio)"
   ]
  },
  {
   "cell_type": "markdown",
   "metadata": {},
   "source": [
    "## Dicas úteis para CN:"
   ]
  },
  {
   "cell_type": "code",
   "execution_count": null,
   "metadata": {},
   "outputs": [],
   "source": [
    "# Criando um vertor(lista) de 10 espaços:\n",
    "a = list(range(10))\n",
    "\n",
    "# utilizando um espaçamento no range - criando números no vetor com espaçamento de 2:\n",
    "b = list(range(0, 10, 2))\n",
    "\n",
    "# criando números no vetor com espaçamento de 3 e com valor incial igual a 4:\n",
    "c = list(range(4, 10, 3))\n",
    "    \n",
    "print(a)\n",
    "print(b)\n",
    "print(c)\n",
    "\n",
    "\n",
    "# Criando uma partição com a biblioteca NumPy:\n",
    "import numpy as np\n",
    "\n",
    "print(np.linspace(10, 20, 50)) # Particiona o intervalo de 10 a 20 em 50 espaços"
   ]
  }
 ],
 "metadata": {
  "kernelspec": {
   "display_name": "Python 3",
   "language": "python",
   "name": "python3"
  },
  "language_info": {
   "codemirror_mode": {
    "name": "ipython",
    "version": 3
   },
   "file_extension": ".py",
   "mimetype": "text/x-python",
   "name": "python",
   "nbconvert_exporter": "python",
   "pygments_lexer": "ipython3",
   "version": "3.8.3"
  }
 },
 "nbformat": 4,
 "nbformat_minor": 2
}
